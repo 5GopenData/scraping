{
 "cells": [
  {
   "cell_type": "code",
   "execution_count": 3,
   "id": "collective-clearing",
   "metadata": {},
   "outputs": [],
   "source": [
    "from pprint import pprint\n",
    "import requests\n",
    "import shadow_useragent\n",
    "from bs4 import BeautifulSoup\n",
    "import time\n",
    "import random"
   ]
  },
  {
   "cell_type": "code",
   "execution_count": 12,
   "id": "smaller-california",
   "metadata": {},
   "outputs": [],
   "source": [
    "ua = shadow_useragent.ShadowUserAgent()\n",
    "\n",
    "my_user_agent = ua\n"
   ]
  },
  {
   "cell_type": "code",
   "execution_count": 13,
   "id": "45622353",
   "metadata": {},
   "outputs": [
    {
     "data": {
      "text/plain": [
       "<Response [403]>"
      ]
     },
     "execution_count": 13,
     "metadata": {},
     "output_type": "execute_result"
    }
   ],
   "source": [
    "search_url = 'https://fr.shopping.rakuten.com/search/harry+potter#nav=Livres'\n",
    "\n",
    "headers = {\n",
    "    \n",
    "   'User-Agent': '{}'.format(my_user_agent),\n",
    "    'Accept': 'text/html,application/xhtml+xml,application/xml;q=0.9,*/*;q=0.8',\n",
    "    'Accept-Language': 'en-US,en;q=0.5',\n",
    "    'Connection': 'keep-alive',\n",
    "    'Upgrade-Insecure-Requests': '1',\n",
    "    'Pragma': 'no-cache',\n",
    "    'Cache-Control': 'no-cache',\n",
    "}\n",
    "\n",
    "session = requests.Session()\n",
    "html = session.get(search_url, headers=headers)\n",
    "#html = requests.get(search_url, headers=headers)\n",
    "soup = BeautifulSoup(html.content, \"html.parser\")\n",
    "html"
   ]
  },
  {
   "cell_type": "code",
   "execution_count": null,
   "id": "protective-tolerance",
   "metadata": {},
   "outputs": [],
   "source": [
    "# Code du résultat\n",
    "raw_grid = soup.select('.grid_container[data-qa=productListing] .grid_row')\n",
    "raw_link = raw_grid[0].select('.panelCta_layoutBtn_ve9 a')"
   ]
  },
  {
   "cell_type": "code",
   "execution_count": null,
   "id": "antique-blanket",
   "metadata": {},
   "outputs": [],
   "source": [
    "# Lien des livres trouvés\n",
    "url_books = []\n",
    "for a in raw_link:\n",
    "    if a['href'].find('[') == -1:\n",
    "        url_books.append('https://fr.shopping.rakuten.com' + a['href'])\n",
    "url_books"
   ]
  },
  {
   "cell_type": "code",
   "execution_count": 16,
   "id": "harmful-encounter",
   "metadata": {},
   "outputs": [
    {
     "data": {
      "text/plain": [
       "[]"
      ]
     },
     "execution_count": 16,
     "metadata": {},
     "output_type": "execute_result"
    }
   ],
   "source": [
    "# infos de chacun de ces livres\n",
    "info_books = []\n",
    "info_book = {\n",
    "    'titre': None,\n",
    "    'image': None,\n",
    "    'auteur': None,\n",
    "    'prix': None,\n",
    "    'note': None,\n",
    "    'nbre_cmt': None,\n",
    "    'best_seller': None,\n",
    "    'liens': None,\n",
    "    'id_search_word': None,\n",
    "}\n",
    "for url in url_books:\n",
    "    html = requests.get(url, headers=headers).content\n",
    "    soup = BeautifulSoup(html, 'html.parser')\n",
    "    time.sleep(round(random.uniform(1, 2), 1))\n",
    "    \n",
    "    ## Nom\n",
    "    title = soup.select('#productName')[0].string.strip()\n",
    "    info_book['titre'] = title\n",
    "    time.sleep(round(random.uniform(1, 2), 1))\n",
    "    \n",
    "    ## Image\n",
    "    img = soup.select('.prdMainPhotoCtn a')['href']\n",
    "    info_book['nbre_cmt'] = img\n",
    "    time.sleep(round(random.uniform(1, 2), 1))\n",
    "    \n",
    "    ## Auteur\n",
    "    autor = soup.select('#prdTitleHead .prdTitleBrand')[0].string\n",
    "    autor = autor.replace(\"-\", \"\").strip()\n",
    "    info_book['auteur'] = autor\n",
    "    time.sleep(round(random.uniform(1, 2), 1))\n",
    "    \n",
    "    ## Prix\n",
    "    if soup.select('#prdRightCol .buyBoxBlock[data-qa=\"buyBoxBlock\"] .price'):\n",
    "        price = soup.select('#prdRightCol .buyBoxBlock[data-qa=\"buyBoxBlock\"] .price')[0].string\n",
    "    elif soup.select('#prdRightCol #prdListingV2[data-qa=\"advertListingBlock\"] .price'):\n",
    "        price = soup.select('#prdRightCol #prdListingV2[data-qa=\"advertListingBlock\"] .price')[0].string\n",
    "    else:\n",
    "        price = 'erreur'\n",
    "    info_book['prix'] = price\n",
    "    time.sleep(round(random.uniform(1, 2), 1))\n",
    "    \n",
    "    ## Note\n",
    "    rating = soup.select('.ratingInfos .starRating .value')[0].string\n",
    "    rating = rating.replace(\"_\", \",\")\n",
    "    rating += \" sur 5 étoiles\" \n",
    "    info_book['note'] = rating\n",
    "    time.sleep(round(random.uniform(1, 2), 1))\n",
    "    \n",
    "    ## Nombre de commentaires\n",
    "    comments = soup.select('.ratingInfos .nb_reviews')[0].string\n",
    "    info_book['nbre_cmt'] = comments\n",
    "    time.sleep(round(random.uniform(1, 2), 1))\n",
    "    \n",
    "    ## Best seller ?\n",
    "    if url == url_books[0]:\n",
    "        best_seller = True\n",
    "    else:\n",
    "        best_seller = False\n",
    "    info_book['best_seller'] = best_seller\n",
    "    \n",
    "    ## Lien\n",
    "    info_book['liens'] = url\n",
    "    \n",
    "    ## id_search_word\n",
    "    info_book['id_search_word'] = search_url.split(\"search/\")[1]\n",
    "    \n",
    "    print(info_book)\n",
    "    info_books.append(info_book)\n",
    "    \n",
    "info_books"
   ]
  },
  {
   "cell_type": "code",
   "execution_count": null,
   "id": "killing-jersey",
   "metadata": {},
   "outputs": [],
   "source": []
  },
  {
   "cell_type": "code",
   "execution_count": null,
   "id": "polar-enhancement",
   "metadata": {},
   "outputs": [],
   "source": []
  },
  {
   "cell_type": "code",
   "execution_count": null,
   "id": "paperback-ottawa",
   "metadata": {},
   "outputs": [],
   "source": []
  }
 ],
 "metadata": {
  "kernelspec": {
   "display_name": "Python 3",
   "language": "python",
   "name": "python3"
  },
  "language_info": {
   "codemirror_mode": {
    "name": "ipython",
    "version": 3
   },
   "file_extension": ".py",
   "mimetype": "text/x-python",
   "name": "python",
   "nbconvert_exporter": "python",
   "pygments_lexer": "ipython3",
   "version": "3.8.8"
  },
  "toc": {
   "base_numbering": 1,
   "nav_menu": {},
   "number_sections": true,
   "sideBar": true,
   "skip_h1_title": false,
   "title_cell": "Table of Contents",
   "title_sidebar": "Contents",
   "toc_cell": false,
   "toc_position": {},
   "toc_section_display": true,
   "toc_window_display": false
  }
 },
 "nbformat": 4,
 "nbformat_minor": 5
}
